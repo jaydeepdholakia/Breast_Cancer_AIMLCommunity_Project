{
 "cells": [
  {
   "cell_type": "markdown",
   "metadata": {},
   "source": [
    "# Week 3 Solution\n",
    "By Jaydeep Dholakia"
   ]
  },
  {
   "cell_type": "markdown",
   "metadata": {},
   "source": [
    "## Q1: Now, there is a small homeowrk for statistics wherein you have to read about the parameteres, define them in brief, write about two main types of distributions and also differentiate both:"
   ]
  },
  {
   "cell_type": "markdown",
   "metadata": {},
   "source": [
    "### Gaussian distribution"
   ]
  },
  {
   "cell_type": "markdown",
   "metadata": {},
   "source": [
    "It is describes data/situation where there are continuous outcomes. There are many data points between any two data data points. E.g: Real Numbers.\n",
    "It is also known as Normal Distribution and/or Bell curve as its graph of the probability density resembles to a bell.\n",
    "\n",
    "Formula for Gaussian Distribution:\n",
    "\n",
    "p(x) = (1/σ*root(2*π)^e)^-((x-µ)^2/2σ^2)\n",
    "\n",
    "where,\n",
    "µ = Mean\n",
    "σ = Standard deviation\n",
    "\n",
    "Conditions for Binomial Distribution:\n",
    "1. The mean and median are equal\n",
    "2. 68% of the data falls within 1 standard deviation"
   ]
  },
  {
   "cell_type": "markdown",
   "metadata": {},
   "source": [
    "### Binomial Distribution"
   ]
  },
  {
   "cell_type": "markdown",
   "metadata": {},
   "source": [
    "It describes data/situation where the outcome has two outcomes in a random experiment. E.g: Pass or Fail, Yes or No.\n",
    "Binomial Distribution has discrete outcomes.\n",
    "\n",
    "Formula for Binomial Distribution:\n",
    "\n",
    "p(x) = (n! * p^x! * q^(n-x))/x!*(n-x!)\n",
    "\n",
    "where,\n",
    "n = number of observations\n",
    "x = random variable\n",
    "p = Probability of Success\n",
    "q = Probability of Failure or (1 - p)\n",
    "\n",
    "Mean: n*p\n",
    "\n",
    "Standard deviation: root(n*p*q)\n",
    "\n",
    "Conditions for Binomial Distribution:\n",
    "1. Each trial has only 2 outcomes\n",
    "2. The probability of the outcome of any trial remains fixed over time\n",
    "3. Outcome of one trial dose not affect the outcome of other trial or They are Statistically Independent"
   ]
  },
  {
   "cell_type": "markdown",
   "metadata": {},
   "source": [
    "### Difference between Gaussian and Binomial Distribution"
   ]
  },
  {
   "cell_type": "markdown",
   "metadata": {},
   "source": [
    "1. Gaussian has continuous outcomes, where as Binomial has discrete outcomes.\n",
    "2. In Gaussian distribution mean and median are equal, where as in Binomial distribution it is not.\n",
    "3. Examples of Gaussian distribution: Real Numbers. Examples of Binomial distribution: Yes No, Pass Fail"
   ]
  },
  {
   "cell_type": "markdown",
   "metadata": {},
   "source": [
    "## Q2: Selectively write 5 lines about each of the below three algorithms so that even a rather inexperienced person can understand it alongwith dealing all the technicalities.\n",
    "\n",
    "1. Logistics regression\n",
    "2. Decision tree classifier \n",
    "3. Random Forest classifier"
   ]
  },
  {
   "cell_type": "markdown",
   "metadata": {},
   "source": [
    "### Logistics regression"
   ]
  },
  {
   "cell_type": "markdown",
   "metadata": {},
   "source": [
    "1. It is a type of supervised learning algorithm.\n",
    "2. Outcomes are Binary (Either one or Zero, Either Yes or No)\n",
    "3. Deals with probability\n",
    "4. It has binomial distribution\n",
    "5. It is used for classification problems\n",
    "6. The predictions of the outcomes are done using the logistic function/logit function:\n",
    "\th(x) = g(Θ^T * x)\n",
    "\n",
    "\tWhere g(z) = 1/(1+e^(-x))\n",
    "\n",
    "\n",
    "7. The function written above is also know as sigmoid function. Where you can get vale between 0 and 1"
   ]
  },
  {
   "cell_type": "markdown",
   "metadata": {},
   "source": [
    "### Decision tree classifier"
   ]
  },
  {
   "cell_type": "markdown",
   "metadata": {},
   "source": [
    "1. It is a supervised learning algorithm mostly used in classification problems (It can also be used in Regression problems).\n",
    "2. As the name suggests, it is based on a tree model of decisions.\n",
    "3. Eg: It we want to decide if we should order from restaurant or not, then we first decide if we have food in house or not? If Yes: We don't go, If No: Do we have enough food? If Yes: Then we don't go, If No: Go to a restaurant\n",
    "4. It is a flowchart like structure, where each node represents a test on a attribute (in our example: Do we have food in house?), a branch represents an outcome of a test (in our example: Yes or No answer of a question), and each leaf holds a class label (in our example: Go to restaurant or Don't go to restaurant)\n",
    "5. It can easily be over-fitted (Do extremely well on training data, but don't perform good on test data)"
   ]
  },
  {
   "cell_type": "markdown",
   "metadata": {},
   "source": [
    "### Random Forest classifier"
   ]
  },
  {
   "cell_type": "markdown",
   "metadata": {},
   "source": [
    "1. It is a supervised learning algorithm.\n",
    "2. As the name suggests, it creates a forest of multiple decision trees.\n",
    "3. When there is a new object for classification based on attributes, each tree gives classifications and then it takes most votes (classifications) to classify the object.\n",
    "4. For regression (continuous values), it takes average of all the values given by each trees.\n",
    "5. It performs good at classification but not good in regression compared to other models.\n",
    "6. It can be used in: Identifying is it a loyal customer, Identifying diseases based on patient past medical record, Also can be used in stock prediction"
   ]
  }
 ],
 "metadata": {
  "kernelspec": {
   "display_name": "Python 3",
   "language": "python",
   "name": "python3"
  },
  "language_info": {
   "codemirror_mode": {
    "name": "ipython",
    "version": 3
   },
   "file_extension": ".py",
   "mimetype": "text/x-python",
   "name": "python",
   "nbconvert_exporter": "python",
   "pygments_lexer": "ipython3",
   "version": "3.7.6"
  }
 },
 "nbformat": 4,
 "nbformat_minor": 4
}
